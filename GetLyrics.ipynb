{
 "cells": [
  {
   "cell_type": "code",
   "execution_count": 1,
   "metadata": {},
   "outputs": [],
   "source": [
    "import lyricsgenius as lg"
   ]
  },
  {
   "cell_type": "code",
   "execution_count": 2,
   "metadata": {},
   "outputs": [],
   "source": [
    "def getLyrics(ArtistName, MusicName,path=\"lyrics\"):\n",
    "    genius = lg.Genius(\"Fe8ofY4X9B4KpGsnEFBRCRmjsmchZLPFBWaFCHlKk264BSpyZ4nC4jRPEXGzQp2e\")\n",
    "    artistName = ArtistName\n",
    "    songName = MusicName\n",
    "\n",
    "    try:\n",
    "        song = genius.search_artist(artistName).song(songName)\n",
    "        return(song.lyrics)\n",
    "    except Exception as e:\n",
    "        return(e)"
   ]
  },
  {
   "cell_type": "code",
   "execution_count": 3,
   "metadata": {
    "collapsed": true
   },
   "outputs": [
    {
     "data": {
      "text/plain": [
       "\"TranslationsFrançaisBaby Lyrics[Verse 1]\\nBaby, baby, tell me, what's the antidote?\\nWouldn't\\u200a text you this late 'less there's somethin' wrong\\nI\\u200a look too good to be in this bedroom\\nWithout someone to touch me like you do\\n\\n[Pre-Chorus]\\nMaybe there is something I can take for this\\nHow\\u200a much longer I gotta wait for this?\\nI\\u200a can see my body on your lips\\nOn your lips, yeah\\nYou\\u200a know once you get a taste for it\\nYou will need it, you would pay for it\\nGo and empty out the bank for this (Oh)\\n[Chorus]\\nIf you wanna be my baby\\nKnow\\u200a I'm gonna drive you mad\\nProbably gonna call me crazy\\nI'm the best you ever had, yeah\\nI can turn you on, on, on\\nWhy your clothes still on, on, on?\\nIf you wanna be my baby\\nKnow I'm gonna drive you mad\\nProbably gonna call me crazy\\nI'm the best you ever had, yeah\\nI can turn you on, on, on\\nWhy your clothes still on, on?\\nKeep you comin' back for more\\n\\n[Verse 2]\\nBaby, baby, do I taste like candy?\\nSugarcoated, he say I'm the most sweet\\nI'm a handful, but that's what hands are for\\nPin me to the floor, treat it like it's yours\\n\\n[Pre-Chorus]\\nMaybe there is something I can take for this\\nHow much longer I gotta wait for this?\\nI can see my body on your lips\\nOn your lips, yeah\\nYou know once you get a taste for it\\nYou will need it, you would pay for it\\nGo and empty out the bank for this\\nYou might also like[Chorus]\\nIf you wanna be my baby\\nKnow I'm gonna drive you mad\\nProbably gonna call me crazy\\nI'm the best you ever had, yeah\\nI can turn you on, on, on\\nWhy your clothes still on, on, on?\\nIf you wanna be my baby\\nKnow I'm gonna drive you mad\\nProbably gonna call me crazy\\nI'm the best you ever had, yeah\\nI can turn you on, on, on\\nWhy your clothes still on, on?\\nKeep you comin' back for more\\n\\n[Bridge]\\nAlone and I'm feelin' myself, but, ooh, baby\\nIt's better when I have some help from my baby\\nI got that love you can't handle, but maybe\\nYou can try\\nI look too good to be up in this bedroom\\nWith someone like you to touch me like you do\\nWhisper my name in my ear, that's like music\\nYou know just what I wanna hear, yeah, yeah, yeah\\n\\n[Chorus]\\nIf you wanna be my baby\\nKnow I'm gonna drive you mad\\nProbably gonna call me crazy\\nI'm the best you ever had, yeah\\nI can turn you on, on, on\\nWhy your clothes still on, on, on?\\nIf you wanna be my baby\\nKnow I'm gonna drive you mad\\nProbably gonna call me crazy\\nI'm the best you ever had, yeah\\nI can turn you on, on, on\\nWhy your clothes still on, on?\\nKeep you comin' back for more20Embed\""
      ]
     },
     "execution_count": 3,
     "metadata": {},
     "output_type": "execute_result"
    }
   ],
   "source": [
    "getLyrics(ArtistName = \"Madison Beer\", MusicName = \"Baby\")"
   ]
  }
 ],
 "metadata": {
  "kernelspec": {
   "display_name": "Python 3",
   "language": "python",
   "name": "python3"
  },
  "language_info": {
   "codemirror_mode": {
    "name": "ipython",
    "version": 3
   },
   "file_extension": ".py",
   "mimetype": "text/x-python",
   "name": "python",
   "nbconvert_exporter": "python",
   "pygments_lexer": "ipython3",
   "version": "3.8.6"
  }
 },
 "nbformat": 4,
 "nbformat_minor": 4
}
